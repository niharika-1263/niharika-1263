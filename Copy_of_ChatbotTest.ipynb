{
  "nbformat": 4,
  "nbformat_minor": 0,
  "metadata": {
    "colab": {
      "provenance": [],
      "authorship_tag": "ABX9TyN5CdV/9PB/bD+xneHEhaQX",
      "include_colab_link": true
    },
    "kernelspec": {
      "name": "python3",
      "display_name": "Python 3"
    },
    "language_info": {
      "name": "python"
    }
  },
  "cells": [
    {
      "cell_type": "markdown",
      "metadata": {
        "id": "view-in-github",
        "colab_type": "text"
      },
      "source": [
        "<a href=\"https://colab.research.google.com/github/niharika-1263/niharika-1263/blob/main/Copy_of_ChatbotTest.ipynb\" target=\"_parent\"><img src=\"https://colab.research.google.com/assets/colab-badge.svg\" alt=\"Open In Colab\"/></a>"
      ]
    },
    {
      "cell_type": "code",
      "source": [],
      "metadata": {
        "id": "nAPUFDPjiwE3"
      },
      "execution_count": null,
      "outputs": []
    },
    {
      "cell_type": "code",
      "execution_count": null,
      "metadata": {
        "id": "eaN1Vc3Ch7gu"
      },
      "outputs": [],
      "source": [
        "# prompt: chatbot\n",
        "\n",
        "def chatbot_response(user_input):\n",
        "  user_input = user_input.lower()\n",
        "\n",
        "  if \"hello\" in user_input or \"hi\" in user_input:\n",
        "    return \"Hello! How can I help you today?\"\n",
        "  elif \"how are you\" in user_input:\n",
        "    return \"I'm doing well, thank you! How about you?\"\n",
        "  elif \"what is your name\" in user_input:\n",
        "    return \"I am a chatbot.\"\n",
        "  elif \"bye\" in user_input or \"goodbye\" in user_input:\n",
        "    return \"Goodbye! Have a nice day.\"\n",
        "  else:\n",
        "    return \"I'm sorry, I didn't understand your request.\"\n",
        "\n",
        "\n",
        "while True:\n",
        "  user_input = input(\"You: \")\n",
        "  if user_input.lower() == 'exit':\n",
        "    break\n",
        "  response = chatbot_response(user_input)\n",
        "  print(\"Chatbot:\", response)\n",
        "\n"
      ]
    }
  ]
}